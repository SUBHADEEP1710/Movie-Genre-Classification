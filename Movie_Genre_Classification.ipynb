{
  "nbformat": 4,
  "nbformat_minor": 0,
  "metadata": {
    "colab": {
      "provenance": [],
      "gpuType": "T4",
      "authorship_tag": "ABX9TyMRZgHNbn/IgZys7K5uLrY5",
      "include_colab_link": true
    },
    "kernelspec": {
      "name": "python3",
      "display_name": "Python 3"
    },
    "language_info": {
      "name": "python"
    },
    "accelerator": "GPU"
  },
  "cells": [
    {
      "cell_type": "markdown",
      "metadata": {
        "id": "view-in-github",
        "colab_type": "text"
      },
      "source": [
        "<a href=\"https://colab.research.google.com/github/SUBHADEEP1710/Movie-Genre-Classification/blob/master/Movie_Genre_Classification.ipynb\" target=\"_parent\"><img src=\"https://colab.research.google.com/assets/colab-badge.svg\" alt=\"Open In Colab\"/></a>"
      ]
    },
    {
      "cell_type": "code",
      "source": [
        "import os\n",
        "os.environ['KAGGLE_CONFIG_DIR']='/content'"
      ],
      "metadata": {
        "id": "Pq5pWKId2SMj"
      },
      "execution_count": 1,
      "outputs": []
    },
    {
      "cell_type": "code",
      "source": [
        "!kaggle datasets download -d hijest/genre-classification-dataset-imdb"
      ],
      "metadata": {
        "colab": {
          "base_uri": "https://localhost:8080/"
        },
        "id": "6AAROdkkvgET",
        "outputId": "4f88dd14-edba-447f-cdfb-0eac02bf1e64"
      },
      "execution_count": 2,
      "outputs": [
        {
          "output_type": "stream",
          "name": "stdout",
          "text": [
            "Warning: Your Kaggle API key is readable by other users on this system! To fix this, you can run 'chmod 600 /content/kaggle.json'\n",
            "Downloading genre-classification-dataset-imdb.zip to /content\n",
            " 67% 28.0M/41.7M [00:00<00:00, 126MB/s] \n",
            "100% 41.7M/41.7M [00:00<00:00, 101MB/s]\n"
          ]
        }
      ]
    },
    {
      "cell_type": "code",
      "source": [
        "!unzip genre-classification-dataset-imdb.zip"
      ],
      "metadata": {
        "colab": {
          "base_uri": "https://localhost:8080/"
        },
        "id": "Eah7A-mWw5c7",
        "outputId": "237ef14a-01fc-4ede-a0a9-49c0c5ee2237"
      },
      "execution_count": 3,
      "outputs": [
        {
          "output_type": "stream",
          "name": "stdout",
          "text": [
            "Archive:  genre-classification-dataset-imdb.zip\n",
            "  inflating: Genre Classification Dataset/description.txt  \n",
            "  inflating: Genre Classification Dataset/test_data.txt  \n",
            "  inflating: Genre Classification Dataset/test_data_solution.txt  \n",
            "  inflating: Genre Classification Dataset/train_data.txt  \n"
          ]
        }
      ]
    },
    {
      "cell_type": "code",
      "source": [
        "# Load data from the text files\n",
        "with open('/content/Genre Classification Dataset/description.txt', 'r') as description_file:\n",
        "    description = description_file.read()\n",
        "\n",
        "with open('/content/Genre Classification Dataset/train_data.txt', 'r') as train_data_file:\n",
        "    train_data = train_data_file.read()\n",
        "\n",
        "with open('/content/Genre Classification Dataset/test_data.txt', 'r') as test_data_file:\n",
        "    test_data = test_data_file.read()\n",
        "\n",
        "with open('/content/Genre Classification Dataset/test_data_solution.txt', 'r') as test_data_solution_file:\n",
        "    test_data_solution = test_data_solution_file.read()\n",
        "\n"
      ],
      "metadata": {
        "id": "Y_WCCv4Byllm"
      },
      "execution_count": 4,
      "outputs": []
    },
    {
      "cell_type": "code",
      "source": [
        "print(description)"
      ],
      "metadata": {
        "colab": {
          "base_uri": "https://localhost:8080/"
        },
        "id": "TaN-P7Fl2dj8",
        "outputId": "d38dcde5-8234-4e2b-8c4c-02c01741e686"
      },
      "execution_count": null,
      "outputs": [
        {
          "output_type": "stream",
          "name": "stdout",
          "text": [
            "Train data:\n",
            "ID ::: TITLE ::: GENRE ::: DESCRIPTION\n",
            "ID ::: TITLE ::: GENRE ::: DESCRIPTION\n",
            "ID ::: TITLE ::: GENRE ::: DESCRIPTION\n",
            "ID ::: TITLE ::: GENRE ::: DESCRIPTION\n",
            "\n",
            "Test data:\n",
            "ID ::: TITLE ::: DESCRIPTION\n",
            "ID ::: TITLE ::: DESCRIPTION\n",
            "ID ::: TITLE ::: DESCRIPTION\n",
            "ID ::: TITLE ::: DESCRIPTION\n",
            "\n",
            "Source:\n",
            "ftp://ftp.fu-berlin.de/pub/misc/movies/database/\n"
          ]
        }
      ]
    },
    {
      "cell_type": "code",
      "source": [
        "\n",
        "\n",
        "\n",
        "train_lines = train_data.split('\\n')\n",
        "test_lines = test_data.split('\\n')\n",
        "test_soln_lines = test_data_solution.split('\\n')\n",
        "\n",
        "\n",
        "train_descriptions = []\n",
        "y_train = []\n",
        "\n",
        "for line in train_lines:\n",
        "    parts = line.split(\" ::: \")\n",
        "    if len(parts) == 4:\n",
        "        train_descriptions.append(parts[3])\n",
        "        y_train.append(parts[2])\n",
        "\n",
        "\n",
        "test_descriptions = []\n",
        "\n",
        "for line in test_soln_lines:\n",
        "    parts = line.split(\" ::: \")\n",
        "    if len(parts) == 3:\n",
        "        test_descriptions.append(parts[3])\n",
        "\n",
        "\n",
        "\n"
      ],
      "metadata": {
        "id": "gbJKi0hwyxDw"
      },
      "execution_count": 5,
      "outputs": []
    },
    {
      "cell_type": "code",
      "source": [
        "import string\n",
        "import nltk\n",
        "from nltk.corpus import stopwords\n",
        "\n",
        "\n",
        "nltk.download('stopwords')\n",
        "\n",
        "# Define a function for text preprocessing\n",
        "def preprocess_text(text):\n",
        "    # Lowercase the text\n",
        "    text = text.lower()\n",
        "\n",
        "    # Remove punctuation\n",
        "    text = ''.join([char for char in text if char not in string.punctuation])\n",
        "\n",
        "    # Tokenize the text (split it into words)\n",
        "    words = text.split()\n",
        "\n",
        "    # Remove stopwords\n",
        "    stop_words = set(stopwords.words('english'))\n",
        "    words = [word for word in words if word not in stop_words]\n",
        "\n",
        "    # Join the words back into a single string\n",
        "    processed_text = ' '.join(words)\n",
        "\n",
        "    return processed_text\n",
        "\n",
        "\n",
        "X_train = [preprocess_text(description) for description in train_descriptions]\n",
        "X_test = [preprocess_text(description) for description in test_descriptions]\n",
        "\n",
        "\n"
      ],
      "metadata": {
        "colab": {
          "base_uri": "https://localhost:8080/"
        },
        "id": "okEcH5U5_SCP",
        "outputId": "3d17f1ca-2830-4c8b-8e39-76cb87607c9b"
      },
      "execution_count": 7,
      "outputs": [
        {
          "output_type": "stream",
          "name": "stderr",
          "text": [
            "[nltk_data] Downloading package stopwords to /root/nltk_data...\n",
            "[nltk_data]   Unzipping corpora/stopwords.zip.\n"
          ]
        }
      ]
    },
    {
      "cell_type": "code",
      "source": [
        "\n",
        "\n",
        "# Split the test data into individual movie descriptions\n",
        "test_lines = test_data_solution.split('\\n')\n",
        "\n",
        "# Initialize a list to store test genres\n",
        "y_test = []\n",
        "\n",
        "# Extract the genres from the test data\n",
        "for line in test_lines:\n",
        "    parts = line.split(\" ::: \")\n",
        "    if len(parts) == 4:\n",
        "        y_test.append(parts[2])\n",
        "\n"
      ],
      "metadata": {
        "id": "Tl-N2OBCIhap"
      },
      "execution_count": 8,
      "outputs": []
    },
    {
      "cell_type": "code",
      "source": [
        "from sklearn.model_selection import train_test_split\n",
        "X_train, X_test, y_train, y_test = train_test_split(X_train, y_train, test_size=0.2, random_state=38)\n"
      ],
      "metadata": {
        "id": "-pe0J_CcHtCE"
      },
      "execution_count": 9,
      "outputs": []
    },
    {
      "cell_type": "code",
      "source": [
        "from sklearn.feature_extraction.text import TfidfVectorizer\n",
        "\n",
        "# Create a TF-IDF vectorizer with your desired settings\n",
        "tfidf_vectorizer = TfidfVectorizer(max_features=10000,\n",
        "                                   ngram_range=(1, 2),\n",
        "                                   min_df=1,\n",
        "                                   max_df=0.98)\n",
        "\n",
        "# Fit and transform the vectorizer on your preprocessed training descriptions\n",
        "X_train_tfidf = tfidf_vectorizer.fit_transform(X_train)\n",
        "\n",
        "X_test_tfidf = tfidf_vectorizer.transform(X_test)\n",
        "\n"
      ],
      "metadata": {
        "id": "yfD0IGLXCpWz"
      },
      "execution_count": 10,
      "outputs": []
    },
    {
      "cell_type": "code",
      "source": [
        "from sklearn.naive_bayes import MultinomialNB\n",
        "from sklearn.metrics import accuracy_score, classification_report\n",
        "\n",
        "# Create a Multinomial Naive Bayes classifier\n",
        "naive_bayes_classifier = MultinomialNB(alpha=0.1)\n",
        "\n",
        "# Train the classifier on the training data\n",
        "naive_bayes_classifier.fit(X_train_tfidf, y_train)\n",
        "\n",
        "# Make predictions on the test data\n",
        "y_test_pred = naive_bayes_classifier.predict(X_test_tfidf)\n",
        "\n",
        "# Evaluate the model's performance\n",
        "accuracy = accuracy_score(y_test, y_test_pred)\n",
        "report = classification_report(y_test, y_test_pred)\n",
        "\n",
        "\n",
        "\n",
        "print(f\"Accuracy: {accuracy}\")\n",
        "print(\"Classification Report:\\n\", report)\n",
        "\n",
        "\n"
      ],
      "metadata": {
        "colab": {
          "base_uri": "https://localhost:8080/"
        },
        "id": "O1aNTq_-PpPt",
        "outputId": "46326d91-9ad2-478b-f673-9f2bed5b029d"
      },
      "execution_count": 11,
      "outputs": [
        {
          "output_type": "stream",
          "name": "stdout",
          "text": [
            "Accuracy: 0.5565802822097206\n",
            "Classification Report:\n",
            "               precision    recall  f1-score   support\n",
            "\n",
            "      action       0.50      0.21      0.30       252\n",
            "       adult       0.48      0.13      0.21       104\n",
            "   adventure       0.38      0.07      0.12       176\n",
            "   animation       0.50      0.03      0.05       109\n",
            "   biography       0.00      0.00      0.00        54\n",
            "      comedy       0.52      0.48      0.50      1491\n",
            "       crime       0.29      0.02      0.04       103\n",
            " documentary       0.62      0.88      0.73      2664\n",
            "       drama       0.49      0.80      0.61      2683\n",
            "      family       0.85      0.07      0.13       159\n",
            "     fantasy       0.33      0.02      0.03        56\n",
            "   game-show       1.00      0.57      0.72        44\n",
            "     history       0.00      0.00      0.00        48\n",
            "      horror       0.67      0.48      0.56       430\n",
            "       music       0.64      0.46      0.54       149\n",
            "     musical       0.00      0.00      0.00        70\n",
            "     mystery       0.00      0.00      0.00        59\n",
            "        news       0.00      0.00      0.00        36\n",
            "  reality-tv       0.45      0.12      0.18       189\n",
            "     romance       1.00      0.01      0.01       136\n",
            "      sci-fi       0.73      0.23      0.35       138\n",
            "       short       0.52      0.16      0.25       955\n",
            "       sport       0.63      0.31      0.42        77\n",
            "   talk-show       0.57      0.17      0.27        69\n",
            "    thriller       0.45      0.08      0.13       359\n",
            "         war       1.00      0.04      0.08        23\n",
            "     western       0.93      0.70      0.80       210\n",
            "\n",
            "    accuracy                           0.56     10843\n",
            "   macro avg       0.50      0.22      0.26     10843\n",
            "weighted avg       0.55      0.56      0.50     10843\n",
            "\n"
          ]
        },
        {
          "output_type": "stream",
          "name": "stderr",
          "text": [
            "/usr/local/lib/python3.10/dist-packages/sklearn/metrics/_classification.py:1344: UndefinedMetricWarning: Precision and F-score are ill-defined and being set to 0.0 in labels with no predicted samples. Use `zero_division` parameter to control this behavior.\n",
            "  _warn_prf(average, modifier, msg_start, len(result))\n",
            "/usr/local/lib/python3.10/dist-packages/sklearn/metrics/_classification.py:1344: UndefinedMetricWarning: Precision and F-score are ill-defined and being set to 0.0 in labels with no predicted samples. Use `zero_division` parameter to control this behavior.\n",
            "  _warn_prf(average, modifier, msg_start, len(result))\n",
            "/usr/local/lib/python3.10/dist-packages/sklearn/metrics/_classification.py:1344: UndefinedMetricWarning: Precision and F-score are ill-defined and being set to 0.0 in labels with no predicted samples. Use `zero_division` parameter to control this behavior.\n",
            "  _warn_prf(average, modifier, msg_start, len(result))\n"
          ]
        }
      ]
    }
  ]
}